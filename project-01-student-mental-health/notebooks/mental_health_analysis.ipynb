{
 "cells": [
  {
   "cell_type": "markdown",
   "id": "58e13edc",
   "metadata": {},
   "source": [
    "SELECT stay, \n",
    "\tCOUNT(*) AS count_int, \n",
    "\tROUND(AVG(todep), 2) AS average_phq, \n",
    "\tROUND(AVG(tosc), 2) AS average_scs, \n",
    "\tROUND(AVG(toas), 2) AS average_as\n",
    "FROM students\n",
    "WHERE inter_dom = 'Inter'\n",
    "GROUP BY stay\n",
    "ORDER BY stay DESC\n",
    "LIMIT 9;"
   ]
  },
  {
   "cell_type": "code",
   "execution_count": 6,
   "id": "d1ea04ed",
   "metadata": {},
   "outputs": [
    {
     "name": "stdout",
     "output_type": "stream",
     "text": [
      "   stay  count_int  average_phq  average_scs  average_as\n",
      "0    10          1        13.00        32.00       50.00\n",
      "1     8          1        10.00        44.00       65.00\n",
      "2     7          1         4.00        48.00       45.00\n",
      "3     6          3         6.00        38.00       58.67\n",
      "4     5          1         0.00        34.00       91.00\n",
      "5     4         14         8.57        33.93       87.71\n",
      "6     3         46         9.09        37.13       78.00\n",
      "7     2         39         8.28        37.08       77.67\n",
      "8     1         95         7.48        38.11       72.80\n"
     ]
    }
   ],
   "source": [
    "import duckdb\n",
    "\n",
    "# Connecting to a CSV file as a database\n",
    "con = duckdb.connect(database=\":memory:\")\n",
    "\n",
    "# Registering the CSV file as a table\n",
    "con.execute(\"\"\"\n",
    "    CREATE TABLE students AS\n",
    "    SELECT * FROM read_csv_auto('../data/students.csv');\n",
    "    \"\"\"\n",
    ")\n",
    "\n",
    "# Querying the table\n",
    "result = con.execute(\"\"\"\n",
    "    SELECT stay, \n",
    "\tCOUNT(*) AS count_int, \n",
    "\tROUND(AVG(todep), 2) AS average_phq, \n",
    "\tROUND(AVG(tosc), 2) AS average_scs, \n",
    "\tROUND(AVG(toas), 2) AS average_as\n",
    "    FROM students\n",
    "    WHERE inter_dom = 'Inter'\n",
    "    GROUP BY stay\n",
    "    ORDER BY stay DESC\n",
    "    LIMIT 9;\n",
    "                \"\"\"\n",
    ").fetchdf()\n",
    "\n",
    "print(result)"
   ]
  }
 ],
 "metadata": {
  "kernelspec": {
   "display_name": "Python 3",
   "language": "python",
   "name": "python3"
  },
  "language_info": {
   "codemirror_mode": {
    "name": "ipython",
    "version": 3
   },
   "file_extension": ".py",
   "mimetype": "text/x-python",
   "name": "python",
   "nbconvert_exporter": "python",
   "pygments_lexer": "ipython3",
   "version": "3.13.2"
  }
 },
 "nbformat": 4,
 "nbformat_minor": 5
}
